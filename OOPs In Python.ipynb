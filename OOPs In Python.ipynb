{
 "cells": [
  {
   "cell_type": "markdown",
   "id": "existing-costs",
   "metadata": {},
   "source": [
    "# Some Important Functions"
   ]
  },
  {
   "cell_type": "code",
   "execution_count": 1,
   "id": "sapphire-titanium",
   "metadata": {
    "scrolled": true
   },
   "outputs": [
    {
     "output_type": "stream",
     "name": "stdout",
     "text": [
      "vIVEK\n"
     ]
    }
   ],
   "source": [
    "s = \"Vivek\"\n",
    "print(s.swapcase())"
   ]
  },
  {
   "cell_type": "code",
   "execution_count": 11,
   "id": "accepted-general",
   "metadata": {},
   "outputs": [
    {
     "data": {
      "text/plain": [
       "'aRohanbRohancRohandRohaneRohanfRohangRohanh'"
      ]
     },
     "execution_count": 11,
     "metadata": {},
     "output_type": "execute_result"
    }
   ],
   "source": [
    "str = \"Rohan\"\n",
    "str2 = \"abcdefgh\"\n",
    "# Calling function\n",
    "str2 = str.join(str2) \n",
    "str2"
   ]
  },
  {
   "cell_type": "code",
   "execution_count": 12,
   "id": "presidential-wages",
   "metadata": {},
   "outputs": [
    {
     "name": "stdout",
     "output_type": "stream",
     "text": [
      "8\n",
      "14\n",
      "6\n",
      "-11\n"
     ]
    }
   ],
   "source": [
    "a = 10\n",
    "b = 12\n",
    "print(a & b) # 8    1010 1100    1000\n",
    "print(a | b) # 14\n",
    "print(a ^ b) # 6      XOR  same perform in 00  and 11  return 0\n",
    "print(~a) # -11       NOT\n"
   ]
  },
  {
   "cell_type": "code",
   "execution_count": 13,
   "id": "novel-brighton",
   "metadata": {},
   "outputs": [
    {
     "ename": "TypeError",
     "evalue": "'list' object is not callable",
     "output_type": "error",
     "traceback": [
      "\u001b[1;31m---------------------------------------------------------------------------\u001b[0m",
      "\u001b[1;31mTypeError\u001b[0m                                 Traceback (most recent call last)",
      "\u001b[1;32m<ipython-input-13-1e702c11e83e>\u001b[0m in \u001b[0;36m<module>\u001b[1;34m\u001b[0m\n\u001b[1;32m----> 1\u001b[1;33m \u001b[0mlist\u001b[0m\u001b[1;33m(\u001b[0m\u001b[0mrange\u001b[0m\u001b[1;33m(\u001b[0m\u001b[1;36m10\u001b[0m\u001b[1;33m)\u001b[0m\u001b[1;33m)\u001b[0m\u001b[1;33m\u001b[0m\u001b[1;33m\u001b[0m\u001b[0m\n\u001b[0m",
      "\u001b[1;31mTypeError\u001b[0m: 'list' object is not callable"
     ]
    }
   ],
   "source": [
    "list(range(10))"
   ]
  },
  {
   "cell_type": "code",
   "execution_count": 14,
   "id": "first-variance",
   "metadata": {},
   "outputs": [
    {
     "name": "stdout",
     "output_type": "stream",
     "text": [
      "[6, 5, 4, 3, 2, 1, 0]\n"
     ]
    }
   ],
   "source": [
    "list=[0,1,2,3,4,5,6]\n",
    "print(list[::-1])\n"
   ]
  },
  {
   "cell_type": "code",
   "execution_count": 15,
   "id": "brutal-gibraltar",
   "metadata": {},
   "outputs": [
    {
     "name": "stdout",
     "output_type": "stream",
     "text": [
      "[6, 5, 4, 3, 2, 1, 0]\n"
     ]
    }
   ],
   "source": [
    "list=[0,1,2,3,4,5,6]\n",
    "print(list[::-1])"
   ]
  },
  {
   "cell_type": "markdown",
   "id": "marked-camel",
   "metadata": {},
   "source": [
    "# OOPs Revison"
   ]
  },
  {
   "cell_type": "code",
   "execution_count": 16,
   "id": "hispanic-accountability",
   "metadata": {},
   "outputs": [],
   "source": [
    "# Every object have attributes and  behaviour\n",
    "# Attrbutes are data or/ properties like height, age...\n",
    "# Behaviour are like actions like talking , walikng\n",
    "# To define Behaviour we use methods\n",
    "# functions in OOP is callled methods\n",
    "\n",
    "# class are like design or blueprint........so this is like the design of MI phone\n",
    "# objects are the real stuff , they  are instance of class...........and this is like the particular phone itself\n"
   ]
  },
  {
   "cell_type": "code",
   "execution_count": 17,
   "id": "specialized-camel",
   "metadata": {},
   "outputs": [
    {
     "name": "stdout",
     "output_type": "stream",
     "text": [
      "<class '__main__.Computer'>\n",
      "<class 'int'>\n"
     ]
    }
   ],
   "source": [
    "class Computer:\n",
    "    def config(self):\n",
    "        print(\"hp\")\n",
    "        \n",
    "        \n",
    "# this is the object of Computer class\n",
    "com1 = Computer()\n",
    "print(type(com1))\n",
    "\n",
    "# This is the object of int class\n",
    "x=0\n",
    "print(type(x))\n",
    "\n",
    "        "
   ]
  },
  {
   "cell_type": "code",
   "execution_count": 18,
   "id": "consolidated-growth",
   "metadata": {},
   "outputs": [
    {
     "ename": "TypeError",
     "evalue": "config() missing 1 required positional argument: 'self'",
     "output_type": "error",
     "traceback": [
      "\u001b[1;31m---------------------------------------------------------------------------\u001b[0m",
      "\u001b[1;31mTypeError\u001b[0m                                 Traceback (most recent call last)",
      "\u001b[1;32m<ipython-input-18-e743616262f4>\u001b[0m in \u001b[0;36m<module>\u001b[1;34m\u001b[0m\n\u001b[0;32m      8\u001b[0m \u001b[1;33m\u001b[0m\u001b[0m\n\u001b[0;32m      9\u001b[0m \u001b[1;33m\u001b[0m\u001b[0m\n\u001b[1;32m---> 10\u001b[1;33m \u001b[0mComputer\u001b[0m\u001b[1;33m.\u001b[0m\u001b[0mconfig\u001b[0m\u001b[1;33m(\u001b[0m\u001b[1;33m)\u001b[0m\u001b[1;33m\u001b[0m\u001b[1;33m\u001b[0m\u001b[0m\n\u001b[0m\u001b[0;32m     11\u001b[0m \u001b[1;31m# you got a error why?\u001b[0m\u001b[1;33m\u001b[0m\u001b[1;33m\u001b[0m\u001b[1;33m\u001b[0m\u001b[0m\n\u001b[0;32m     12\u001b[0m \u001b[1;31m# Because if there are multiple methods how the config() function know about that\u001b[0m\u001b[1;33m\u001b[0m\u001b[1;33m\u001b[0m\u001b[1;33m\u001b[0m\u001b[0m\n",
      "\u001b[1;31mTypeError\u001b[0m: config() missing 1 required positional argument: 'self'"
     ]
    }
   ],
   "source": [
    "\n",
    "class Computer:\n",
    "    def config(self):\n",
    "        print(\"hp\")\n",
    "        \n",
    "        \n",
    "\n",
    "com1 = Computer()\n",
    "\n",
    "\n",
    "Computer.config()\n",
    "# you got a error why?\n",
    "# Because if there are multiple methods how the config() function know about that\n",
    "# we have to pass com1 to tell the method that we need config of com1 object"
   ]
  },
  {
   "cell_type": "code",
   "execution_count": 19,
   "id": "actual-garage",
   "metadata": {},
   "outputs": [
    {
     "name": "stdout",
     "output_type": "stream",
     "text": [
      "hp\n"
     ]
    }
   ],
   "source": [
    "class Computer:\n",
    "    def config(self):\n",
    "        print(\"hp\")\n",
    "        \n",
    "        \n",
    "\n",
    "com1 = Computer()\n",
    "\n",
    "\n",
    "Computer.config(com1)\n",
    "        "
   ]
  },
  {
   "cell_type": "code",
   "execution_count": 20,
   "id": "removable-boutique",
   "metadata": {},
   "outputs": [
    {
     "data": {
      "text/plain": [
       "mappingproxy({'__module__': '__main__',\n",
       "              'config': <function __main__.Computer.config(self)>,\n",
       "              '__dict__': <attribute '__dict__' of 'Computer' objects>,\n",
       "              '__weakref__': <attribute '__weakref__' of 'Computer' objects>,\n",
       "              '__doc__': None})"
      ]
     },
     "execution_count": 20,
     "metadata": {},
     "output_type": "execute_result"
    }
   ],
   "source": [
    "class Computer:\n",
    "    def config(self):\n",
    "        print(\"hp\")\n",
    "        \n",
    "        \n",
    "\n",
    "com1 = Computer()\n",
    "\n",
    "\n",
    "# Computer.config(com1)\n",
    "        \n",
    "Computer.__dict__"
   ]
  },
  {
   "cell_type": "code",
   "execution_count": 21,
   "id": "julian-graham",
   "metadata": {},
   "outputs": [
    {
     "name": "stdout",
     "output_type": "stream",
     "text": [
      "hp\n",
      "hp\n"
     ]
    }
   ],
   "source": [
    "class Computer:\n",
    "    def config(self):\n",
    "        print(\"hp\")\n",
    "        \n",
    "        \n",
    "\n",
    "com1 = Computer()  #These are objects\n",
    "com2 = Computer()\n",
    "\n",
    "\n",
    "#ClassName.congig(objectName)\n",
    "Computer.config(com1)\n",
    "\n",
    "# obejct.config()\n",
    "com1.config()\n",
    "        "
   ]
  },
  {
   "cell_type": "code",
   "execution_count": 22,
   "id": "formed-wells",
   "metadata": {},
   "outputs": [
    {
     "name": "stdout",
     "output_type": "stream",
     "text": [
      "Config is  i3 16\n",
      "Config is  Ryzen 5 8\n"
     ]
    }
   ],
   "source": [
    "#  special variables  ->      __vivek__\n",
    "#  Special Mehods      ->     __MehodName__\n",
    "\n",
    "class Computer:\n",
    "    def __init__(self,cpu,ram): # Three parameters\n",
    "#         This is a constructor\n",
    "#         It willbe called automatically when class is called\n",
    "        self.cpu = cpu\n",
    "        self.ram = ram\n",
    "        \n",
    "    def config(self):\n",
    "        print(\"Config is \", self.cpu, self.ram)\n",
    "        \n",
    "        \n",
    "\n",
    "com1 = Computer('i3', 16)  #Two parameters\n",
    "# look, init is required 3 parameters and we are passing only 2 parameters in com1.\n",
    "# Thats because com1 has also 3 parameters, the name of object \"com1\" is also passed with\n",
    "# the two parameters, its just hidden\n",
    "com2 = Computer('Ryzen 5', 8)\n",
    "\n",
    "\n",
    "com1.config()\n",
    "com2.config()        "
   ]
  },
  {
   "cell_type": "code",
   "execution_count": 23,
   "id": "central-poland",
   "metadata": {},
   "outputs": [
    {
     "name": "stdout",
     "output_type": "stream",
     "text": [
      "1823162910792\n",
      "1823162910856\n"
     ]
    }
   ],
   "source": [
    "\n",
    "class Computer():\n",
    "    pass\n",
    "\n",
    "c1 = Computer()\n",
    "c2 = Computer()\n",
    "\n",
    "\n",
    "#  Id gives the address of the object in Heap memory\n",
    "print(id(c1))\n",
    "print(id(c2))\n",
    "\n",
    "#We get to different Ids beacuse Every time you create a object\n",
    "# It will allocated to new space\n",
    "\n",
    "# who is calcluting this memory and assigning the memory -> Constructor"
   ]
  },
  {
   "cell_type": "code",
   "execution_count": 24,
   "id": "informational-kennedy",
   "metadata": {},
   "outputs": [
    {
     "name": "stdout",
     "output_type": "stream",
     "text": [
      "20\n",
      "30\n"
     ]
    }
   ],
   "source": [
    "# Why is \"self\" needed\n",
    "\n",
    "class Human():\n",
    "    def __init__(self):\n",
    "        self.age=20\n",
    "        \n",
    "    def update_age(self):\n",
    "        self.age = self.age+10\n",
    " \n",
    "vivek = Human()\n",
    "\n",
    "print(vivek.age)\n",
    "\n",
    "vivek.update_age()  # So this is a request sent to update_age() function to change the age\n",
    "# Also one parameter object name i.e. \"vivek\" is passed.\n",
    "# But by default what if we have multiple objects like vivek, ajit , arpit, bhati\n",
    "# So as vivek is already passed to update_age function now \"self\" will tell the function that\n",
    "# We have to change the age of vivek object,   self->vivek\n",
    "print(vivek.age)"
   ]
  },
  {
   "cell_type": "markdown",
   "id": "aquatic-daily",
   "metadata": {},
   "source": [
    "# # Types of Variables"
   ]
  },
  {
   "cell_type": "code",
   "execution_count": 25,
   "id": "harmful-filling",
   "metadata": {},
   "outputs": [
    {
     "name": "stdout",
     "output_type": "stream",
     "text": [
      "10 Toyota 4\n"
     ]
    }
   ],
   "source": [
    "# We have two type  of variables\n",
    "# instance variable\n",
    "# Class/static variables\n",
    "\n",
    "\n",
    "class Car():\n",
    "    \n",
    "    wheels = 4 #This  is a class or static variable\n",
    "               #When we change it , it will changes for all the objects\n",
    "    \n",
    "    def __init__(self):\n",
    "        self.milage = 10\n",
    "        self.company = \"Toyota\"\n",
    "#         both are instance variable, as the car changes , both the value changes\n",
    "#         If we decide a variable inside the__init__ it will be instance variable\n",
    "#         We can set instance variable different for different objects\n",
    "\n",
    "\n",
    "c1 = Car()\n",
    "\n",
    "print(c1.milage,c1.company,c1.wheels)"
   ]
  },
  {
   "cell_type": "markdown",
   "id": "falling-advocacy",
   "metadata": {},
   "source": [
    "# # Types of Mehods"
   ]
  },
  {
   "cell_type": "code",
   "execution_count": 26,
   "id": "sought-basin",
   "metadata": {},
   "outputs": [
    {
     "name": "stdout",
     "output_type": "stream",
     "text": [
      "44.333333333333336\n",
      "IIITV\n"
     ]
    }
   ],
   "source": [
    "# We have 3 types of methods\n",
    "# instance, class, static methods\n",
    "\n",
    "\n",
    "class Students():\n",
    "    \n",
    "    school = \"IIITV\" #This  is a class variable\n",
    "    \n",
    "    def __init__(self,m1,m2,m3):\n",
    "        self.m1=m1 #This is the default value of m1 for every object\n",
    "        self.m2=m2\n",
    "        self.m3=m3\n",
    "    \n",
    "    def avg(self):# this is a instance object\n",
    "                  # as we are passing the self into it\n",
    "                  # so it belongs to a particular object at a time\n",
    "        return (self.m1+ self.m2+ self.m3)/3\n",
    "        \n",
    "        #there are two type of instance objects:\n",
    "        #1.Accessor Methods :when object is only fetching value\n",
    "        #2.Mutator Methods  : when object is modifing value\n",
    "        \n",
    "    def get_m1(self):#1.Accessor Methods\n",
    "        return(self.m1)\n",
    "    \n",
    "    def set_m1(self):#2.Mutator Methods\n",
    "        self.m1= value\n",
    "    \n",
    "    @classmethod \n",
    "    def getSchool(cls):#Class method\n",
    "        #it should be alway \"cls\"\n",
    "        # working with class variable i.e. \"school\"\n",
    "        \n",
    "        return cls.school\n",
    "    \n",
    "    \n",
    "    @staticmethod\n",
    "    def info(): #static Method\n",
    "        #nothing to do with instance\n",
    "        #nothing to do with class method\n",
    "        \n",
    "        print(\"I am happy today\")\n",
    "        \n",
    "\n",
    "s1 = Students(34,67,32)\n",
    "s2 = Students(10,25,36)\n",
    "\n",
    "\n",
    "print(s1.avg())\n",
    "print(Students.getSchool())\n",
    "\n",
    "    "
   ]
  },
  {
   "cell_type": "markdown",
   "id": "stylish-mixer",
   "metadata": {},
   "source": [
    "# # Class inside a Class"
   ]
  },
  {
   "cell_type": "code",
   "execution_count": 27,
   "id": "absent-mattress",
   "metadata": {},
   "outputs": [
    {
     "name": "stdout",
     "output_type": "stream",
     "text": [
      "ram\n",
      "hp ram cpu screen\n",
      "None\n"
     ]
    }
   ],
   "source": [
    "class Student():\n",
    "    def __init__(self,name,rollno):\n",
    "        self.rollno=rollno\n",
    "        self.name=name\n",
    "        \n",
    "        self.lap=self.Laptop() #######\n",
    "        \n",
    "    def show(self):\n",
    "        print(self.rollno, self.name)\n",
    "        \n",
    "    class Laptop():\n",
    "        def __init__(self):\n",
    "            self.brand=\"hp\"\n",
    "            self.ram=\"ram\"\n",
    "            self.cpu=\"cpu\"\n",
    "            self.screen=\"screen\"\n",
    "        def show(self):\n",
    "            print(self.brand, self.ram,self.cpu,self.screen)\n",
    "            \n",
    "            \n",
    "s1=Student(3,\"vivek\")\n",
    "\n",
    "print(s1.lap.ram)\n",
    "\n",
    "print(s1.lap.show())"
   ]
  },
  {
   "cell_type": "markdown",
   "id": "finite-chart",
   "metadata": {},
   "source": [
    "# #  Inheritence in oops"
   ]
  },
  {
   "cell_type": "code",
   "execution_count": 28,
   "id": "psychological-holiday",
   "metadata": {},
   "outputs": [
    {
     "name": "stdout",
     "output_type": "stream",
     "text": [
      "feature 1 is working\n",
      "feature 3 is working\n"
     ]
    },
    {
     "ename": "AttributeError",
     "evalue": "'B' object has no attribute 'feature1'",
     "output_type": "error",
     "traceback": [
      "\u001b[1;31m---------------------------------------------------------------------------\u001b[0m",
      "\u001b[1;31mAttributeError\u001b[0m                            Traceback (most recent call last)",
      "\u001b[1;32m<ipython-input-28-c4de8629624d>\u001b[0m in \u001b[0;36m<module>\u001b[1;34m\u001b[0m\n\u001b[0;32m     18\u001b[0m \u001b[1;33m\u001b[0m\u001b[0m\n\u001b[0;32m     19\u001b[0m \u001b[1;31m#what if we require feature1 in class B\u001b[0m\u001b[1;33m\u001b[0m\u001b[1;33m\u001b[0m\u001b[1;33m\u001b[0m\u001b[0m\n\u001b[1;32m---> 20\u001b[1;33m \u001b[0mb1\u001b[0m\u001b[1;33m.\u001b[0m\u001b[0mfeature1\u001b[0m\u001b[1;33m(\u001b[0m\u001b[1;33m)\u001b[0m\u001b[1;33m\u001b[0m\u001b[1;33m\u001b[0m\u001b[0m\n\u001b[0m",
      "\u001b[1;31mAttributeError\u001b[0m: 'B' object has no attribute 'feature1'"
     ]
    }
   ],
   "source": [
    "class A():\n",
    "    def feature1(self):\n",
    "        print(\"feature 1 is working\")\n",
    "    def feature2(self):\n",
    "        print(\"feature 2 is working\")\n",
    "        \n",
    "class B():\n",
    "    def feature3(self):\n",
    "        print(\"feature 3 is working\")\n",
    "    def feature4(self):\n",
    "        print(\"feature 4 is working\")\n",
    "        \n",
    "\n",
    "a1=A()\n",
    "a1.feature1()\n",
    "b1=B()\n",
    "b1.feature3()\n",
    "\n",
    "#what if we require feature1 in class B\n",
    "b1.feature1()"
   ]
  },
  {
   "cell_type": "code",
   "execution_count": 29,
   "id": "miniature-magnet",
   "metadata": {},
   "outputs": [
    {
     "name": "stdout",
     "output_type": "stream",
     "text": [
      "feature 1 is working\n",
      "feature 3 is working\n",
      "feature 1 is working\n",
      "feature 3 is working\n"
     ]
    }
   ],
   "source": [
    "class A(B): #inherited B into A\n",
    "    def feature1(self):\n",
    "        print(\"feature 1 is working\")\n",
    "    def feature2(self):\n",
    "        print(\"feature 2 is working\")\n",
    "        \n",
    "class B(A): # inherited A into B\n",
    "    def feature3(self):\n",
    "        print(\"feature 3 is working\")\n",
    "    def feature4(self):\n",
    "        print(\"feature 4 is working\")\n",
    "        \n",
    "\n",
    "a1=A()\n",
    "a1.feature1()\n",
    "b1=B()\n",
    "b1.feature3()\n",
    "\n",
    "#what if we require feature1 in class B\n",
    "b1.feature1()\n",
    "\n",
    "a1.feature3()"
   ]
  },
  {
   "cell_type": "code",
   "execution_count": 30,
   "id": "competitive-wellington",
   "metadata": {},
   "outputs": [
    {
     "name": "stdout",
     "output_type": "stream",
     "text": [
      "feature 1 is working\n",
      "feature 3 is working\n",
      "feature 1 is working\n",
      "Now A is parent or Super class\n",
      "and B is a child or sub Class\n"
     ]
    }
   ],
   "source": [
    "class A(): \n",
    "    def feature1(self):\n",
    "        print(\"feature 1 is working\")\n",
    "    def feature2(self):\n",
    "        print(\"feature 2 is working\")\n",
    "        \n",
    "class B(A): # inherited A into B\n",
    "    def feature3(self):\n",
    "        print(\"feature 3 is working\")\n",
    "    def feature4(self):\n",
    "        print(\"feature 4 is working\")\n",
    "        \n",
    "\n",
    "a1=A()\n",
    "a1.feature1()\n",
    "b1=B()\n",
    "b1.feature3()\n",
    "\n",
    "#what if we require feature1 in class B\n",
    "b1.feature1()\n",
    "\n",
    "\n",
    "# Now A is parent or Super class\n",
    "# and B is a child or sub Class\n",
    "\n",
    "print('''Now A is parent or Super class\n",
    "and B is a child or sub Class''')\n",
    "\n",
    "\n",
    "# This is single level inheritence\n",
    "# multi level inheritence is when we inherit A->B->C       .... class A, class B(A), class C(B)\n",
    "# multiple inheritence is when there is class A, class B, class C(A,B)"
   ]
  },
  {
   "cell_type": "code",
   "execution_count": 31,
   "id": "underlying-rhythm",
   "metadata": {},
   "outputs": [
    {
     "name": "stdout",
     "output_type": "stream",
     "text": [
      "in the init of B\n",
      "in the init of A\n"
     ]
    }
   ],
   "source": [
    "class A(): \n",
    "    def __init__(self):\n",
    "        print(\"in the init of A\")\n",
    "        \n",
    "    def feature1(self):\n",
    "        print(\"feature 1 is working\")\n",
    "    def feature2(self):\n",
    "        print(\"feature 2 is working\")\n",
    "        \n",
    "class B(A): # inherited A into B\n",
    "    \n",
    "    def __init__(self):\n",
    "        print(\"in the init of B\")\n",
    "        super().__init__() # calling init of super class\n",
    "        # to represent the super class we use super()\n",
    "    def feature3(self):\n",
    "        print(\"feature 3 is working\")\n",
    "    def feature4(self):\n",
    "        print(\"feature 4 is working\")\n",
    "        \n",
    "\n",
    "# a1=A()\n",
    "b1 = B()\n",
    "# first it will search for init in B if not then search in A\n"
   ]
  },
  {
   "cell_type": "code",
   "execution_count": 32,
   "id": "substantial-requirement",
   "metadata": {},
   "outputs": [
    {
     "name": "stdout",
     "output_type": "stream",
     "text": [
      "in the init of C\n"
     ]
    }
   ],
   "source": [
    "class A(): \n",
    "    def __init__(self):\n",
    "        print(\"in the init of A\")\n",
    "        \n",
    "    def feature1(self):\n",
    "        print(\"feature 1 is working\")\n",
    "    def feature2(self):\n",
    "        print(\"feature 2 is working\")\n",
    "        \n",
    "class B():\n",
    "    \n",
    "    def __init__(self):\n",
    "        print(\"in the init of B\")\n",
    "        \n",
    "    def feature3(self):\n",
    "        print(\"feature 3 is working\")\n",
    "    def feature4(self):\n",
    "        print(\"feature 4 is working\")\n",
    "        \n",
    "class C(A,B):\n",
    "    def __init__(self):\n",
    "        print('in the init of C')\n",
    "        \n",
    "c1=C()\n"
   ]
  },
  {
   "cell_type": "markdown",
   "id": "accepted-instruction",
   "metadata": {},
   "source": [
    "# # MRO, Method resolution order"
   ]
  },
  {
   "cell_type": "code",
   "execution_count": 33,
   "id": "diverse-tourism",
   "metadata": {},
   "outputs": [
    {
     "name": "stdout",
     "output_type": "stream",
     "text": [
      "in the init of A\n",
      "in the init of C\n"
     ]
    }
   ],
   "source": [
    "class A(): \n",
    "    def __init__(self):\n",
    "        print(\"in the init of A\")\n",
    "        \n",
    "    def feature1(self):\n",
    "        print(\"feature 1 is working\")\n",
    "    def feature2(self):\n",
    "        print(\"feature 2 is working\")\n",
    "        \n",
    "class B():\n",
    "    \n",
    "    def __init__(self):\n",
    "        print(\"in the init of B\")\n",
    "        \n",
    "    def feature3(self):\n",
    "        print(\"feature 3 is working\")\n",
    "    def feature4(self):\n",
    "        print(\"feature 4 is working\")\n",
    "        \n",
    "class C(A,B):\n",
    "    def __init__(self):\n",
    "        super().__init__()\n",
    "        # so which one will it choose? A or B as we have 2 super class A,B\n",
    "        # So here is the concept of MRO  i.e. method resolution order\n",
    "        # MRO works from left to right. So it prefer A over B\n",
    "        # It will also work same for methods\n",
    "        # if there is a same method in both A, B then preference is given to left one i.e. A\n",
    "        print('in the init of C')\n",
    "        \n",
    "c1=C()\n"
   ]
  },
  {
   "cell_type": "markdown",
   "id": "entire-third",
   "metadata": {},
   "source": [
    "# # Introduction to polymorphism"
   ]
  },
  {
   "cell_type": "code",
   "execution_count": 34,
   "id": "floppy-setting",
   "metadata": {},
   "outputs": [
    {
     "name": "stdout",
     "output_type": "stream",
     "text": [
      "140723304374800\n",
      "1823162858160\n"
     ]
    }
   ],
   "source": [
    "# polymorphism denotes many forms\n",
    "# means one thing can take multiple forms\n",
    "# duck typing, operator overloading , \n",
    "#mainly ->method overloading, method overriding\n",
    "\n",
    "x =5\n",
    "print(id(x))\n",
    "x =\"viveksss\"\n",
    "print(id(x))\n"
   ]
  },
  {
   "cell_type": "code",
   "execution_count": 35,
   "id": "portable-conference",
   "metadata": {},
   "outputs": [
    {
     "name": "stdout",
     "output_type": "stream",
     "text": [
      "11\n",
      "11\n"
     ]
    }
   ],
   "source": [
    "a =5\n",
    "# a is int object\n",
    "b =6\n",
    "\n",
    "print(a+b)\n",
    "\n",
    "# everything in python is a object\n",
    "# In the background we are calling add method of int class\n",
    "print(int.__add__(a,b))\n",
    "# help(int.__add__(a,b))"
   ]
  },
  {
   "cell_type": "code",
   "execution_count": 36,
   "id": "thousand-galaxy",
   "metadata": {},
   "outputs": [
    {
     "name": "stdout",
     "output_type": "stream",
     "text": [
      "7\n",
      "34\n"
     ]
    }
   ],
   "source": [
    "# polymorphism example\n",
    "\n",
    "print(3+4)\n",
    "print(\"3\"+\"4\")\n",
    "# here + operatior show multiple forms"
   ]
  },
  {
   "cell_type": "code",
   "execution_count": null,
   "id": "structural-anime",
   "metadata": {},
   "outputs": [],
   "source": [
    "#recursive function for factorial\n",
    "def factorial(x):\n",
    "    \"\"\"This is a recursive function\n",
    "    to find the factorial of an integer\"\"\"\n",
    "\n",
    "    if x == 1:\n",
    "        return 1\n",
    "    else:\n",
    "        return (x * factorial(x-1))\n",
    "\n",
    "\n",
    "num = int(input())\n",
    "print(\"The factorial of\", num, \"is\", factorial(num))"
   ]
  },
  {
   "cell_type": "code",
   "execution_count": null,
   "id": "built-powder",
   "metadata": {},
   "outputs": [],
   "source": [
    "def myfunc(n):\n",
    "  return lambda a : a * n\n",
    "\n",
    "mydoubler = myfunc(2)\n",
    "\n",
    "print(mydoubler(10))\n"
   ]
  },
  {
   "cell_type": "code",
   "execution_count": null,
   "id": "amazing-baptist",
   "metadata": {},
   "outputs": [],
   "source": [
    "# Program to print the fibonacci series upto n_terms \n",
    "  \n",
    "# Recursive function \n",
    "def recursive_fibonacci(n): \n",
    "   if n <= 1: \n",
    "       return n \n",
    "   else: \n",
    "       return(recursive_fibonacci(n-1) + recursive_fibonacci(n-2)) \n",
    "   \n",
    "n_terms = 10\n",
    "   \n",
    "# check if the number of terms is valid \n",
    "if n_terms <= 0: \n",
    "   print(\"Invalid input ! Please input a positive value\") \n",
    "else: \n",
    "   print(\"Fibonacci series:\") \n",
    "   for i in range(n_terms): \n",
    "       print(recursive_fibonacci(i)) "
   ]
  },
  {
   "cell_type": "markdown",
   "id": "incident-fellowship",
   "metadata": {},
   "source": [
    "# overriding"
   ]
  },
  {
   "cell_type": "code",
   "execution_count": null,
   "id": "dominican-decrease",
   "metadata": {},
   "outputs": [],
   "source": [
    "# if we have two method with same name(not possible in same class) and same number of parameters\n",
    "# for this we have to use inheritence, in which both class has same methods\n",
    "# this is called overriding"
   ]
  },
  {
   "cell_type": "code",
   "execution_count": null,
   "id": "amber-guest",
   "metadata": {},
   "outputs": [],
   "source": [
    "class A:\n",
    "    classvar1 = \"i am a class variable in class A\"\n",
    "    \n",
    "    def __init__(self):\n",
    "        self.var1 = \"I am inside the class A's constructor\"\n",
    "#         self.classvar1 =\"I am an instance variable in A/init\"\n",
    "        \n",
    "class B(A):\n",
    "    classvar2= \"i am a class variable in class B\"\n",
    "    \n",
    "a = A()\n",
    "b = B()\n",
    "\n",
    "print(b.classvar2)"
   ]
  },
  {
   "cell_type": "code",
   "execution_count": null,
   "id": "developing-raleigh",
   "metadata": {},
   "outputs": [],
   "source": [
    "class A:\n",
    "    classvar1 = \"i am a class variable in class A\"\n",
    "    \n",
    "    def __init__(self):\n",
    "        self.var1 = \"I am inside the class A's constructor\"\n",
    "#         self.classvar1 =\"I am an instance variable in A/init\"\n",
    "        \n",
    "class B(A):\n",
    "    classvar2= \"i am a class variable in class B\"\n",
    "    \n",
    "a = A()\n",
    "b = B()\n",
    "\n",
    "print(b.classvar1)"
   ]
  },
  {
   "cell_type": "code",
   "execution_count": null,
   "id": "parliamentary-graduate",
   "metadata": {},
   "outputs": [],
   "source": [
    "class A:\n",
    "    classvar1 = \"i am a class variable in class A\"\n",
    "    \n",
    "    def __init__(self):\n",
    "        self.var1 = \"I am inside the class A's constructor\"\n",
    "        self.classvar1 =\"I am an instance variable in A/init\"\n",
    "        \n",
    "class B(A):\n",
    "    classvar2= \"i am a class variable in class B\"\n",
    "    \n",
    "a = A()\n",
    "b = B()\n",
    "\n",
    "print(b.classvar1)\n",
    "\n",
    "#see the difference in both\n",
    "#It will first find instance variable \"classvar1\" in B then in A \n",
    "# and then if instance varibale is not, then take the static variable"
   ]
  },
  {
   "cell_type": "code",
   "execution_count": null,
   "id": "fatty-harvest",
   "metadata": {},
   "outputs": [],
   "source": [
    "# first it will look for instance variable in B class then in super class i.e. A class\n",
    "class A:\n",
    "    classvar1 = \"i am a class variable in class A\"\n",
    "    \n",
    "    def __init__(self):\n",
    "        self.var1 = \"I am inside the class A's constructor\"\n",
    "        self.classvar1 =\"I am an instance variable in A/init\"\n",
    "        \n",
    "class B(A):\n",
    "    classvar1= \"i am a class variable in class B\"\n",
    "    \n",
    "a = A()\n",
    "b = B()\n",
    "\n",
    "print(b.classvar1) # there are total 3 classvar1\n"
   ]
  },
  {
   "cell_type": "code",
   "execution_count": null,
   "id": "becoming-flush",
   "metadata": {},
   "outputs": [],
   "source": [
    "# first it will look for instance variable in B class then in super class i.e. A class\n",
    "class A:\n",
    "    classvar1 = \"i am a class variable in class A\"\n",
    "    \n",
    "    def __init__(self):\n",
    "        self.var1 = \"I am inside the class A's constructor\"\n",
    "        self.classvar1 =\"I am an instance variable in A/init\"\n",
    "        \n",
    "class B(A):\n",
    "    classvar1= \"i am a class variable in class B\"\n",
    "    \n",
    "    def __init__(self):\n",
    "        self.var1 = \"I am inside the class B's constructor\"\n",
    "        self.classvar1 =\"I am an instance variable in B/init\"\n",
    "    \n",
    "a = A()\n",
    "b = B()\n",
    "\n",
    "print(b.classvar1) # there are total 4 classvar1\n",
    "\n"
   ]
  },
  {
   "cell_type": "code",
   "execution_count": null,
   "id": "stupid-magnet",
   "metadata": {},
   "outputs": [],
   "source": [
    "# first it will look for instance variable in B class then in super class i.e. A class\n",
    "class A:\n",
    "    classvar1 = \"i am a class variable in class A\"\n",
    "    \n",
    "    def __init__(self):\n",
    "        self.var1 = \"I am inside the class A's constructor\"\n",
    "        self.classvar1 =\"I am an instance variable in A/init\"\n",
    "        \n",
    "class B(A):\n",
    "    classvar1= \"i am a class variable in class B\"\n",
    "    \n",
    "    def __init__(self):\n",
    "        self.var1 = \"I am inside the class B's constructor\"\n",
    "#         self.classvar1 =\"I am an instance variable in B/init\"\n",
    "    \n",
    "a = A()\n",
    "b = B()\n",
    "\n",
    "print(b.classvar1) # there are total 3 classvar1\n",
    "\n",
    "\n",
    "# now it is unable to return A/init as it is overwritten by B/init constructor"
   ]
  },
  {
   "cell_type": "code",
   "execution_count": null,
   "id": "downtown-tucson",
   "metadata": {
    "scrolled": true
   },
   "outputs": [],
   "source": [
    "# first it will look for instance variable in B class then in super class i.e. A class\n",
    "class A:\n",
    "    classvar1 = \"i am a class variable in class A\"\n",
    "    \n",
    "    def __init__(self):\n",
    "        self.var1 = \"I am inside the class A's constructor\"\n",
    "        self.classvar1 =\"I am an instance variable in A/init\"\n",
    "        \n",
    "class B(A):\n",
    "    classvar1= \"i am a class variable in class B\"\n",
    "    \n",
    "#     def __init__(self):\n",
    "#         self.var1 = \"I am inside the class B's constructor\"\n",
    "#         self.classvar1 =\"I am an instance variable in B/init\"\n",
    "    \n",
    "a = A()\n",
    "b = B()\n",
    "\n",
    "print(b.classvar1) # there are total 3 classvar1\n",
    "\n"
   ]
  },
  {
   "cell_type": "code",
   "execution_count": null,
   "id": "happy-trademark",
   "metadata": {},
   "outputs": [],
   "source": [
    "# first it will look for instance variable in B class then in super class i.e. A class\n",
    "class A:\n",
    "    classvar1 = \"i am a class variable in class A\"\n",
    "    \n",
    "    def __init__(self):\n",
    "        self.var1 = \"I am inside the class A's constructor\"\n",
    "        self.classvar1 =\"I am an instance variable in A/init\"\n",
    "        self.special = \"special\"\n",
    "        \n",
    "class B(A):\n",
    "    classvar1= \"i am a class variable in class B\"\n",
    "    \n",
    "    def __init__(self):\n",
    "        self.var1 = \"I am inside the class B's constructor\"\n",
    "#         self.classvar1 =\"I am an instance variable in B/init\"\n",
    "    \n",
    "a = A()\n",
    "b = B()\n",
    "\n",
    "print(b.special) # as A/init is overwritten by B/init, now A/init has no significance\n",
    "\n",
    "\n",
    "# now it is unable to return A/init as it is overwritten by B/init constructor"
   ]
  },
  {
   "cell_type": "code",
   "execution_count": null,
   "id": "collected-astrology",
   "metadata": {},
   "outputs": [],
   "source": [
    "#What if we want to run A/init even after overwritten\n",
    "\n",
    "class A:\n",
    "    classvar1 = \"i am a class variable in class A\"\n",
    "    \n",
    "    def __init__(self):\n",
    "        self.var1 = \"I am inside the class A's constructor\"\n",
    "        self.classvar1 =\"I am an instance variable in A/init\"\n",
    "        self.special = \"special\"\n",
    "        \n",
    "        \n",
    "class B(A):\n",
    "    classvar1= \"i am a class variable in class B\"\n",
    "    \n",
    "    def __init__(self):\n",
    "        super().__init__() \n",
    "        self.var1 = \"I am inside the class B's constructor\"\n",
    "        self.classvar1 =\"I am an instance variable in B/init\"\n",
    "    \n",
    "a = A()\n",
    "b = B()\n",
    "\n",
    "print(b.special, b.var1, b.classvar1)\n",
    "\n"
   ]
  },
  {
   "cell_type": "code",
   "execution_count": null,
   "id": "orange-warner",
   "metadata": {},
   "outputs": [],
   "source": [
    "#What if we want to run A/init even after overwritten\n",
    "\n",
    "class A:\n",
    "    classvar1 = \"i am a class variable in class A\"\n",
    "    \n",
    "    def __init__(self):\n",
    "        self.var1 = \"I am inside the class A's constructor\"\n",
    "        self.classvar1 =\"I am an instance variable in A/init\"\n",
    "        self.special = \"special\"\n",
    "        \n",
    "        \n",
    "class B(A):\n",
    "    classvar1= \"i am a class variable in class B\"\n",
    "    \n",
    "    def __init__(self):\n",
    "        \n",
    "        self.var1 = \"I am inside the class B's constructor\"\n",
    "        self.classvar1 =\"I am an instance variable in B/init\"\n",
    "        \n",
    "        super().__init__()\n",
    "    \n",
    "a = A()\n",
    "b = B()\n",
    "\n",
    "print(b.special, b.var1, b.classvar1)\n"
   ]
  },
  {
   "cell_type": "markdown",
   "id": "loving-portable",
   "metadata": {},
   "source": [
    "# # operator overloading"
   ]
  },
  {
   "cell_type": "code",
   "execution_count": null,
   "id": "waiting-ontario",
   "metadata": {},
   "outputs": [],
   "source": [
    "# when function/method/operator perform a task which is not predefined\n",
    "# in this the parameters will change but the function will remain the same\n",
    "\n",
    "\n",
    "\n",
    "# This is operator overlading\n",
    "# ******------->Python has NO method overloading *********<------\n",
    "# we cannot create two method in python with the same name\n",
    "# java and other language has method overloading\n",
    "\n",
    "print(10+20)\n",
    "\n",
    "# int.__add__(self,other) #behind the scene\n",
    "\n",
    "\n",
    "class A():\n",
    "    def __init__(self,x):\n",
    "        self.x=x\n",
    "    \n",
    "    def __add__(self,other):    #overloading to + operator\n",
    "        return self.x+other.x\n",
    "    \n",
    "class B():\n",
    "    def __init__(self,x):\n",
    "        self.x=x\n",
    "        \n",
    "a = A(10)\n",
    "b = B(20)\n",
    "\n",
    "print(a.__add__(b))\n",
    "print(a+b)\n",
    "    "
   ]
  },
  {
   "cell_type": "markdown",
   "id": "binary-privacy",
   "metadata": {},
   "source": [
    "# Abstraction & Encapsulation\n"
   ]
  },
  {
   "cell_type": "code",
   "execution_count": null,
   "id": "swiss-injury",
   "metadata": {},
   "outputs": [],
   "source": [
    "# abstraction means to break in small parts\n",
    "# like a keyboard-> chip + buttons\n",
    "# to achieve abstraction we need encapsulation\n",
    "# incapsulation means aam khao guthli mar gino\n",
    "# means the implemetation is hidden from the end\n",
    "# for example there is a player class in game software\n",
    "# there are methods like sit, play, walk , run, fight, fire, kick\n",
    "# so when we encapsulate these methods, then we know that they work, like sit make player able to sit\n",
    "# but we don't know that how it works, because the implementaion of sit method is encapsulated\n",
    "# abstraction are like layers. for example\n",
    "# 1. building player class\n",
    "# 2. attaching player class with city class\n",
    "# 3. attaching both with graphics and other things"
   ]
  },
  {
   "cell_type": "code",
   "execution_count": null,
   "id": "editorial-guard",
   "metadata": {},
   "outputs": [],
   "source": [
    "# special variables in python\n",
    "\n",
    "print(__name__) # print the name of function which will run\n",
    "\n",
    "def vivek():\n",
    "    print(\"1\")\n",
    "\n",
    "\n",
    "if __name__=='__main__':\n",
    "    #it will only executed when main() will run.\n",
    "    vivek()"
   ]
  },
  {
   "cell_type": "code",
   "execution_count": null,
   "id": "interracial-beach",
   "metadata": {},
   "outputs": [],
   "source": []
  }
 ],
 "metadata": {
  "kernelspec": {
   "display_name": "Python 3",
   "language": "python",
   "name": "python3"
  },
  "language_info": {
   "codemirror_mode": {
    "name": "ipython",
    "version": 3
   },
   "file_extension": ".py",
   "mimetype": "text/x-python",
   "name": "python",
   "nbconvert_exporter": "python",
   "pygments_lexer": "ipython3",
   "version": "3.7.9-final"
  }
 },
 "nbformat": 4,
 "nbformat_minor": 5
}